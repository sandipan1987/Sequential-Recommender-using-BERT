{
 "cells": [
  {
   "cell_type": "code",
   "execution_count": 4,
   "id": "bda8cfe0",
   "metadata": {},
   "outputs": [],
   "source": [
    "### Loading necessary packages\n",
    "\n",
    "import random\n",
    "import numpy as np\n",
    "import pandas as pd\n",
    "import pytorch_lightning as pl\n",
    "import torch\n",
    "from pytorch_lightning.callbacks import ModelCheckpoint\n",
    "from pytorch_lightning.loggers import TensorBoardLogger\n",
    "from torch.utils.data import DataLoader\n",
    "\n",
    "\n",
    "### loading our custom model python files\n",
    "from recommender.models import Recommender\n",
    "from recommender.data_processing import get_context, pad_list, map_column, MASK, PAD\n"
   ]
  },
  {
   "cell_type": "code",
   "execution_count": 33,
   "id": "f687dde3",
   "metadata": {},
   "outputs": [],
   "source": [
    "### defining the data file path\n",
    "\n",
    "ratings_path = \"../Data/ml-latest-small/ratings.csv\"\n",
    "movies_path = \"../Data/ml-latest-small/movies.csv\"\n",
    "model_path = \"../recommender_models/recommender.ckpt\""
   ]
  },
  {
   "cell_type": "code",
   "execution_count": 34,
   "id": "cac77364",
   "metadata": {},
   "outputs": [],
   "source": [
    "### creating the dataframes form the csv files\n",
    "ratings = pd.read_csv(ratings_path)\n",
    "movies = pd.read_csv(movies_path)"
   ]
  },
  {
   "cell_type": "code",
   "execution_count": 35,
   "id": "bb1a33bd",
   "metadata": {},
   "outputs": [],
   "source": [
    "### sorting the data based on timestamp to make it sequential as per user ratings\n",
    "\n",
    "ratings.sort_values(by=\"timestamp\", inplace=True)"
   ]
  },
  {
   "cell_type": "code",
   "execution_count": 36,
   "id": "0a65c910",
   "metadata": {},
   "outputs": [],
   "source": [
    "### creating the inverse mapping of the movie id using our custom function from data_processing file\n",
    "ratings, mapping, inverse_mapping = map_column(ratings, col_name=\"movieId\")\n",
    "\n",
    "### grouping the data based on user id\n",
    "grp_by_train = ratings.groupby(by=\"userId\")"
   ]
  },
  {
   "cell_type": "code",
   "execution_count": 37,
   "id": "6923b93c",
   "metadata": {},
   "outputs": [
    {
     "data": {
      "text/plain": [
       "[86, 51, 175, 65, 573, 577, 102, 283, 17, 90]"
      ]
     },
     "execution_count": 37,
     "metadata": {},
     "output_type": "execute_result"
    }
   ],
   "source": [
    "### checking a random sample of user id from the ratings data \n",
    "random.sample(list(grp_by_train.groups), k=10)"
   ]
  },
  {
   "cell_type": "code",
   "execution_count": 38,
   "id": "80c7cc4e",
   "metadata": {},
   "outputs": [
    {
     "data": {
      "text/plain": [
       "<All keys matched successfully>"
      ]
     },
     "execution_count": 38,
     "metadata": {},
     "output_type": "execute_result"
    }
   ],
   "source": [
    "### creating the model object from our custom model class from model file\n",
    "model = Recommender(\n",
    "        vocab_size=len(mapping) + 2,\n",
    "        lr=1e-4,\n",
    "        dropout=0.3,\n",
    "    )\n",
    "model.eval()\n",
    "\n",
    "### loading our pretrained model\n",
    "model.load_state_dict(torch.load(model_path)[\"state_dict\"])"
   ]
  },
  {
   "cell_type": "code",
   "execution_count": 39,
   "id": "997385df",
   "metadata": {},
   "outputs": [],
   "source": [
    "### creating a dictinary of movie names as key and mapping Id as values\n",
    "movie_to_idx = {a: mapping[b] for a, b in zip(movies.title.tolist(), movies.movieId.tolist()) if b in mapping}\n",
    "\n",
    "### creating a dictinary of mapping id as key and movie names as values\n",
    "idx_to_movie = {v: k for k, v in movie_to_idx.items()}"
   ]
  },
  {
   "cell_type": "code",
   "execution_count": 53,
   "id": "5b083cd4",
   "metadata": {},
   "outputs": [],
   "source": [
    "### creating a simple function that will take list of movies you watched, predict the next 10 movies\n",
    "\n",
    "def predict(list_movies, model, movie_to_idx, idx_to_movie):\n",
    "    \n",
    "    ###adding [PAD] in the beginning based on no of movies provied , then the movie ids and at the end [MASK]\n",
    "    ids = [PAD] * (120 - len(list_movies) - 1) + [movie_to_idx[a] for a in list_movies] + [MASK]\n",
    "    \n",
    "    src = torch.tensor(ids, dtype=torch.long).unsqueeze(0)\n",
    "    \n",
    "    with torch.no_grad():\n",
    "        prediction = model(src)\n",
    "    \n",
    "    masked_pred = prediction[0, -1].numpy()\n",
    "    \n",
    "    sorted_predicted_ids = np.argsort(masked_pred).tolist()[::-1]\n",
    "    \n",
    "    sorted_predicted_ids = [a for a in sorted_predicted_ids if a not in ids]\n",
    "    \n",
    "    return [idx_to_movie[a] for a in sorted_predicted_ids[:10] if a in idx_to_movie]\n"
   ]
  },
  {
   "cell_type": "markdown",
   "id": "1f0e44c1",
   "metadata": {},
   "source": [
    "### Senario 1: Adventure/Fantasy "
   ]
  },
  {
   "cell_type": "code",
   "execution_count": 54,
   "id": "5dae87be",
   "metadata": {},
   "outputs": [
    {
     "data": {
      "text/plain": [
       "['Pulp Fiction (1994)',\n",
       " 'Star Wars: Episode V - The Empire Strikes Back (1980)',\n",
       " 'Fight Club (1999)',\n",
       " 'Fugitive, The (1993)',\n",
       " 'Silence of the Lambs, The (1991)',\n",
       " 'Four Weddings and a Funeral (1994)',\n",
       " 'Lord of the Rings: The Two Towers, The (2002)',\n",
       " 'Die Hard: With a Vengeance (1995)',\n",
       " 'Usual Suspects, The (1995)',\n",
       " 'Inception (2010)']"
      ]
     },
     "execution_count": 54,
     "metadata": {},
     "output_type": "execute_result"
    }
   ],
   "source": [
    "list_movies = [\"Harry Potter and the Sorcerer's Stone (a.k.a. Harry Potter and the Philosopher's Stone) (2001)\",\n",
    "               \"Harry Potter and the Chamber of Secrets (2002)\",\n",
    "               \"Harry Potter and the Prisoner of Azkaban (2004)\",\n",
    "               \"Harry Potter and the Goblet of Fire (2005)\"]\n",
    "\n",
    "top_movie = predict(list_movies, model, movie_to_idx, idx_to_movie)\n",
    "top_movie"
   ]
  },
  {
   "cell_type": "markdown",
   "id": "afb4b657",
   "metadata": {},
   "source": [
    "### Senario 2:  Action/Adventure"
   ]
  },
  {
   "cell_type": "code",
   "execution_count": 55,
   "id": "96f0c5d3",
   "metadata": {},
   "outputs": [
    {
     "data": {
      "text/plain": [
       "['Fugitive, The (1993)',\n",
       " 'Four Weddings and a Funeral (1994)',\n",
       " 'Lord of the Rings: The Two Towers, The (2002)',\n",
       " 'Die Hard: With a Vengeance (1995)',\n",
       " 'Usual Suspects, The (1995)',\n",
       " 'Independence Day (a.k.a. ID4) (1996)',\n",
       " 'Interview with the Vampire: The Vampire Chronicles (1994)',\n",
       " 'Mask, The (1994)',\n",
       " 'Star Wars: Episode VI - Return of the Jedi (1983)',\n",
       " 'Net, The (1995)']"
      ]
     },
     "execution_count": 55,
     "metadata": {},
     "output_type": "execute_result"
    }
   ],
   "source": [
    "list_movies = [\"Pulp Fiction (1994)\",\n",
    "               \"Fight Club (1999)\",\n",
    "               \"Silence of the Lambs, The (1991)\",\n",
    "               \"Inception (2010)\",\n",
    "               \"Star Wars: Episode V - The Empire Strikes Back (1980)\",\n",
    "               \"Terminator 2: Judgment Day (1991)\"]\n",
    "\n",
    "top_movie = predict(list_movies, model, movie_to_idx, idx_to_movie)\n",
    "top_movie"
   ]
  },
  {
   "cell_type": "markdown",
   "id": "a22ddfeb",
   "metadata": {},
   "source": [
    "### Senario 3: Comedy"
   ]
  },
  {
   "cell_type": "code",
   "execution_count": 56,
   "id": "b3f01cbc",
   "metadata": {},
   "outputs": [
    {
     "data": {
      "text/plain": [
       "['Pulp Fiction (1994)',\n",
       " 'Star Wars: Episode V - The Empire Strikes Back (1980)',\n",
       " 'Fight Club (1999)',\n",
       " 'Fugitive, The (1993)',\n",
       " 'Silence of the Lambs, The (1991)',\n",
       " 'Four Weddings and a Funeral (1994)',\n",
       " 'Lord of the Rings: The Two Towers, The (2002)',\n",
       " 'Die Hard: With a Vengeance (1995)',\n",
       " 'Usual Suspects, The (1995)',\n",
       " 'Inception (2010)']"
      ]
     },
     "execution_count": 56,
     "metadata": {},
     "output_type": "execute_result"
    }
   ],
   "source": [
    "list_movies = [\"Zootopia (2016)\",\n",
    "               \"Toy Story 3 (2010)\",\n",
    "               \"Finding Nemo (2003)\",\n",
    "               \"Ratatouille (2007)\",\n",
    "               \"The Lego Movie (2014)\",\n",
    "               \"Ghostbusters (a.k.a. Ghost Busters) (1984)\",\n",
    "               \"Ace Ventura: When Nature Calls (1995)\"]\n",
    "top_movie = predict(list_movies, model, movie_to_idx, idx_to_movie)\n",
    "top_movie"
   ]
  },
  {
   "cell_type": "code",
   "execution_count": null,
   "id": "f9434a0e",
   "metadata": {},
   "outputs": [],
   "source": []
  }
 ],
 "metadata": {
  "kernelspec": {
   "display_name": "Python 3.9.1 64-bit",
   "language": "python",
   "name": "python3"
  },
  "language_info": {
   "codemirror_mode": {
    "name": "ipython",
    "version": 3
   },
   "file_extension": ".py",
   "mimetype": "text/x-python",
   "name": "python",
   "nbconvert_exporter": "python",
   "pygments_lexer": "ipython3",
   "version": "3.9.1"
  },
  "vscode": {
   "interpreter": {
    "hash": "aee8b7b246df8f9039afb4144a1f6fd8d2ca17a180786b69acc140d282b71a49"
   }
  }
 },
 "nbformat": 4,
 "nbformat_minor": 5
}
